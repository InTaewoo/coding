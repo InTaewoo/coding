{
  "nbformat": 4,
  "nbformat_minor": 0,
  "metadata": {
    "colab": {
      "name": "리스트.ipynb",
      "provenance": [],
      "collapsed_sections": [],
      "authorship_tag": "ABX9TyNv/+0D6rLKwGkHc4oMTr3i",
      "include_colab_link": true
    },
    "kernelspec": {
      "name": "python3",
      "display_name": "Python 3"
    },
    "language_info": {
      "name": "python"
    }
  },
  "cells": [
    {
      "cell_type": "markdown",
      "metadata": {
        "id": "view-in-github",
        "colab_type": "text"
      },
      "source": [
        "<a href=\"https://colab.research.google.com/github/InTaewoo/coding/blob/main/%EB%A6%AC%EC%8A%A4%ED%8A%B8.ipynb\" target=\"_parent\"><img src=\"https://colab.research.google.com/assets/colab-badge.svg\" alt=\"Open In Colab\"/></a>"
      ]
    },
    {
      "cell_type": "markdown",
      "metadata": {
        "id": "ZOABQO54FJR4"
      },
      "source": [
        "# 1번 : 사탕 더미에 떨어지다 (리스트)"
      ]
    },
    {
      "cell_type": "code",
      "metadata": {
        "colab": {
          "base_uri": "https://localhost:8080/",
          "height": 152
        },
        "id": "jJ7t8ERyFBxx",
        "outputId": "ac6964ef-6021-48f0-f45e-70bbe3eb6423"
      },
      "source": [
        "차이점:보기1은 각각의 변수를 가지고 있다. 보기 2는 candies라는 변수에 묶여서 원하는 값을 낼수있다.\n",
        "공통점:"
      ],
      "execution_count": 1,
      "outputs": [
        {
          "output_type": "error",
          "ename": "SyntaxError",
          "evalue": "ignored",
          "traceback": [
            "\u001b[0;36m  File \u001b[0;32m\"<ipython-input-1-839e3c5dd5a9>\"\u001b[0;36m, line \u001b[0;32m1\u001b[0m\n\u001b[0;31m    차이점:보기1은 각각의 변수를 가지고 있다. 보기 2는 candies라는 변수에 묶여서 원하는 값을 낼수있다.\u001b[0m\n\u001b[0m               ^\u001b[0m\n\u001b[0;31mSyntaxError\u001b[0m\u001b[0;31m:\u001b[0m invalid syntax\n"
          ]
        }
      ]
    },
    {
      "cell_type": "markdown",
      "metadata": {
        "id": "wCHhr4n_GCP8"
      },
      "source": [
        "# 2번 : 리스트 기본 구조 (리스트)"
      ]
    },
    {
      "cell_type": "code",
      "metadata": {
        "colab": {
          "base_uri": "https://localhost:8080/"
        },
        "id": "i9TILBLJGBSO",
        "outputId": "f667d908-37ee-4c7c-d8d4-a970d73e78b4"
      },
      "source": [
        "my_list1 = []\n",
        "print(my_list1)\n",
        "my_list2 = [1, -2, 3.14]\n",
        "print(my_list2)\n",
        "\n",
        "my_list3 = ['앨리스',10,[1.0,1.2]]\n",
        "print(my_list3)\n"
      ],
      "execution_count": 6,
      "outputs": [
        {
          "output_type": "stream",
          "text": [
            "[]\n",
            "[1, -2, 3.14]\n",
            "['앨리스', 10, [1.0, 1.2]]\n"
          ],
          "name": "stdout"
        }
      ]
    },
    {
      "cell_type": "markdown",
      "metadata": {
        "id": "vlcWUCQpGo2G"
      },
      "source": [
        "# 3번 : 값 추가하기 (리스트)"
      ]
    },
    {
      "cell_type": "code",
      "metadata": {
        "id": "txcKJp5eGotL"
      },
      "source": [
        "clovers=['클로버1']"
      ],
      "execution_count": 13,
      "outputs": []
    },
    {
      "cell_type": "code",
      "metadata": {
        "id": "6B-sW1WkHigg"
      },
      "source": [
        ""
      ],
      "execution_count": null,
      "outputs": []
    },
    {
      "cell_type": "code",
      "metadata": {
        "id": "QiZRBigCHPW8"
      },
      "source": [
        "clovers.append('하트2')"
      ],
      "execution_count": 16,
      "outputs": []
    },
    {
      "cell_type": "code",
      "metadata": {
        "colab": {
          "base_uri": "https://localhost:8080/"
        },
        "id": "qliBioaxGobE",
        "outputId": "3851a127-90ea-4260-d271-402d41a78656"
      },
      "source": [
        "print(clovers)"
      ],
      "execution_count": 14,
      "outputs": [
        {
          "output_type": "stream",
          "text": [
            "['클로버1', '하트2']\n"
          ],
          "name": "stdout"
        }
      ]
    },
    {
      "cell_type": "markdown",
      "metadata": {
        "id": "an78t2fAH2d3"
      },
      "source": [
        "# 4번 : 값에 접근하기 (리스트)"
      ]
    },
    {
      "cell_type": "code",
      "metadata": {
        "colab": {
          "base_uri": "https://localhost:8080/"
        },
        "id": "LtonEMCJHCyd",
        "outputId": "66ea2bf9-dcac-499e-bcf2-e88dda9663ca"
      },
      "source": [
        "clovers = ['클로버1', '하트2', '클로버3']\n",
        "clovers[1]='클로버2'\n",
        "print(clovers[1])"
      ],
      "execution_count": 23,
      "outputs": [
        {
          "output_type": "stream",
          "text": [
            "클로버2\n"
          ],
          "name": "stdout"
        }
      ]
    },
    {
      "cell_type": "code",
      "metadata": {
        "colab": {
          "base_uri": "https://localhost:8080/"
        },
        "id": "YYhu7G_7Ibzu",
        "outputId": "54e085f2-f3cf-48e3-e055-b12b4ea4e7f8"
      },
      "source": [
        "print(clovers)"
      ],
      "execution_count": 22,
      "outputs": [
        {
          "output_type": "stream",
          "text": [
            "['클로버2', '하트2', '클로버3']\n"
          ],
          "name": "stdout"
        }
      ]
    },
    {
      "cell_type": "markdown",
      "metadata": {
        "id": "SQQ_C10xJWHd"
      },
      "source": [
        "# 5번 : 값 제거하기 (리스트)"
      ]
    },
    {
      "cell_type": "code",
      "metadata": {
        "colab": {
          "base_uri": "https://localhost:8080/"
        },
        "id": "4ioqMP7LJZRX",
        "outputId": "964ecf7f-556c-41b2-a61c-4a7ace9664ec"
      },
      "source": [
        "clovers = ['클로버1', '클로버2', '클로버3']\n",
        "clovers.remove('클로버2')\n",
        "clovers"
      ],
      "execution_count": 24,
      "outputs": [
        {
          "output_type": "execute_result",
          "data": {
            "text/plain": [
              "['클로버1', '클로버3']"
            ]
          },
          "metadata": {
            "tags": []
          },
          "execution_count": 24
        }
      ]
    },
    {
      "cell_type": "code",
      "metadata": {
        "id": "KKku-h35J7Jj"
      },
      "source": [
        "for i in rang(clovers) # i 0 1 2 3 4 5 6 7 8 9 \n",
        "  clovers.append(clovers[i])\n",
        "\n",
        "while i <= 100:\n",
        "  clovers.append(clovers[i])  "
      ],
      "execution_count": null,
      "outputs": []
    },
    {
      "cell_type": "markdown",
      "metadata": {
        "id": "Xi8zgMCNKLte"
      },
      "source": [
        "# 6번 : 박하맛 사탕이 싫어요 (리스트)"
      ]
    },
    {
      "cell_type": "code",
      "metadata": {
        "id": "YXx6tFTIKNNH"
      },
      "source": [
        "candies = ['딸기맛','레몬맛','수박맛','박하맛','우유맛']"
      ],
      "execution_count": 25,
      "outputs": []
    },
    {
      "cell_type": "code",
      "metadata": {
        "colab": {
          "base_uri": "https://localhost:8080/"
        },
        "id": "L6xE3LjpKkpe",
        "outputId": "0ab57dba-4b14-4a87-9e93-49086d9b93c5"
      },
      "source": [
        "candies.append('콜라맛')\n",
        "candies.append('포도맛')\n",
        "candies.remove('박하맛')\n",
        "print(candies)"
      ],
      "execution_count": 27,
      "outputs": [
        {
          "output_type": "stream",
          "text": [
            "['딸기맛', '레몬맛', '수박맛', '우유맛', '콜라맛', '포도맛']\n"
          ],
          "name": "stdout"
        }
      ]
    },
    {
      "cell_type": "markdown",
      "metadata": {
        "id": "wTzLKckFLt1C"
      },
      "source": [
        "# 7번 : 여러 값 가져오기 (리스트)"
      ]
    },
    {
      "cell_type": "code",
      "metadata": {
        "colab": {
          "base_uri": "https://localhost:8080/"
        },
        "id": "GrHmkBHbKwwZ",
        "outputId": "cb8c2362-1c16-4cae-f256-fb451ba869f3"
      },
      "source": [
        "week = ['월','화','수','목','금','토','일']\n",
        "li = []\n",
        "li.append(week[2])\n",
        "li.append(week[3])\n",
        "li.append(week[4])\n",
        "print(week[2:5])"
      ],
      "execution_count": 35,
      "outputs": [
        {
          "output_type": "stream",
          "text": [
            "['수', '목', '금']\n"
          ],
          "name": "stdout"
        }
      ]
    },
    {
      "cell_type": "markdown",
      "metadata": {
        "id": "6f0oeg5VNAXG"
      },
      "source": [
        "# 8번 : 배고픈 동물 친구들 (리스트)"
      ]
    },
    {
      "cell_type": "code",
      "metadata": {
        "colab": {
          "base_uri": "https://localhost:8080/"
        },
        "id": "b5Nwu7zIL34c",
        "outputId": "7debe79c-3996-4407-a455-c596f8ba5b26"
      },
      "source": [
        "candies = ['딸기맛','레몬맛','수박맛','우유맛','콜라맛','포도맛']\n",
        "cat_candy=candies[0]\n",
        "print('체셔고양이에게는',cat_candy,'사탕을 줘요.')\n",
        "duck_candy=candies[1]\n",
        "print('오리에게는',duck_candy,'사탕을 줘요.')\n",
        "dodo_candies=candies[3:]\n",
        "print('도도새에게는',dodo_candies,'사탕을 줘요.')\n"
      ],
      "execution_count": 39,
      "outputs": [
        {
          "output_type": "stream",
          "text": [
            "체셔고양이에게는 딸기맛 사탕을 줘요.\n",
            "오리에게는 레몬맛 사탕을 줘요.\n",
            "도도새에게는 ['우유맛', '콜라맛', '포도맛'] 사탕을 줘요.\n"
          ],
          "name": "stdout"
        }
      ]
    },
    {
      "cell_type": "markdown",
      "metadata": {
        "id": "zmy3upm6Ob8v"
      },
      "source": [
        "# 9번 : 정렬하기 (리스트)"
      ]
    },
    {
      "cell_type": "code",
      "metadata": {
        "colab": {
          "base_uri": "https://localhost:8080/"
        },
        "id": "x-rG0LdJObgG",
        "outputId": "14c14ac3-007d-4be5-bd4b-85b30475566b"
      },
      "source": [
        "animals = ['체셔고양이', '오리', '도도새']\n",
        "animals.reverse()\n",
        "print(animals)"
      ],
      "execution_count": 41,
      "outputs": [
        {
          "output_type": "stream",
          "text": [
            "['도도새', '오리', '체셔고양이']\n"
          ],
          "name": "stdout"
        }
      ]
    },
    {
      "cell_type": "markdown",
      "metadata": {
        "id": "WBeEZsAcPLAb"
      },
      "source": [
        "# 10번 : 개수 세기 (리스트)"
      ]
    },
    {
      "cell_type": "code",
      "metadata": {
        "colab": {
          "base_uri": "https://localhost:8080/"
        },
        "id": "TlhBWNd-Olfd",
        "outputId": "52607aa9-f23d-48d0-8e8f-cfc1f10226a3"
      },
      "source": [
        "cards = ['하트','클로버','하트','다이아']\n",
        "cards.count('하트')"
      ],
      "execution_count": 42,
      "outputs": [
        {
          "output_type": "execute_result",
          "data": {
            "text/plain": [
              "2"
            ]
          },
          "metadata": {
            "tags": []
          },
          "execution_count": 42
        }
      ]
    },
    {
      "cell_type": "code",
      "metadata": {
        "id": "NpaioQC6PYhv"
      },
      "source": [
        ""
      ],
      "execution_count": null,
      "outputs": []
    }
  ]
}