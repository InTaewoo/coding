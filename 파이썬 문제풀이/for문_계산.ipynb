{
  "nbformat": 4,
  "nbformat_minor": 0,
  "metadata": {
    "colab": {
      "name": "for문 계산.ipynb",
      "provenance": [],
      "authorship_tag": "ABX9TyNHl3Zp9pCajoBPTVeroJfY",
      "include_colab_link": true
    },
    "kernelspec": {
      "name": "python3",
      "display_name": "Python 3"
    },
    "language_info": {
      "name": "python"
    }
  },
  "cells": [
    {
      "cell_type": "markdown",
      "metadata": {
        "id": "view-in-github",
        "colab_type": "text"
      },
      "source": [
        "<a href=\"https://colab.research.google.com/github/InTaewoo/coding/blob/main/for%EB%AC%B8_%EA%B3%84%EC%82%B0.ipynb\" target=\"_parent\"><img src=\"https://colab.research.google.com/assets/colab-badge.svg\" alt=\"Open In Colab\"/></a>"
      ]
    },
    {
      "cell_type": "markdown",
      "metadata": {
        "id": "9obwiosyRqKD"
      },
      "source": [
        "#1번 : for문 계산"
      ]
    },
    {
      "cell_type": "code",
      "metadata": {
        "colab": {
          "base_uri": "https://localhost:8080/"
        },
        "id": "BcxkQfKdRnnX",
        "outputId": "e3b48d40-040a-4d73-fe32-3e80467e304f"
      },
      "source": [
        "a = 10\n",
        "b = 2\n",
        "for i in range(1, 5, 2):\n",
        "  a += i\n",
        " \n",
        "print(a+b)"
      ],
      "execution_count": 2,
      "outputs": [
        {
          "output_type": "stream",
          "text": [
            "16\n"
          ],
          "name": "stdout"
        }
      ]
    },
    {
      "cell_type": "markdown",
      "metadata": {
        "id": "J0GKrl-4TM0J"
      },
      "source": [
        "#2번 : 구구단 출력하기"
      ]
    },
    {
      "cell_type": "code",
      "metadata": {
        "colab": {
          "base_uri": "https://localhost:8080/"
        },
        "id": "hOlDyo83SB11",
        "outputId": "1670e7f0-a04e-43cc-b601-1e294e196548"
      },
      "source": [
        "n=int(input('숫자를 입력하시오.'))\n",
        "for i in range(1,10):\n",
        "  print(i*n,end=' ')"
      ],
      "execution_count": 13,
      "outputs": [
        {
          "output_type": "stream",
          "text": [
            "숫자를 입력하시오.9\n",
            "9 18 27 36 45 54 63 72 81 "
          ],
          "name": "stdout"
        }
      ]
    },
    {
      "cell_type": "markdown",
      "metadata": {
        "id": "x1cFRthpVn-V"
      },
      "source": [
        "#3번 : for문을 이용한 기본 활용"
      ]
    },
    {
      "cell_type": "code",
      "metadata": {
        "colab": {
          "base_uri": "https://localhost:8080/"
        },
        "id": "mlBXPTOtTtvj",
        "outputId": "c5e26dc8-157f-4a91-a815-596cf53f51e7"
      },
      "source": [
        "sum=0\n",
        "for i in range(101):\n",
        "  sum=sum+i\n",
        "print(sum)"
      ],
      "execution_count": 31,
      "outputs": [
        {
          "output_type": "stream",
          "text": [
            "5050\n"
          ],
          "name": "stdout"
        }
      ]
    },
    {
      "cell_type": "code",
      "metadata": {
        "id": "kzQCJJbdXTAY"
      },
      "source": [
        ""
      ],
      "execution_count": null,
      "outputs": []
    }
  ]
}
