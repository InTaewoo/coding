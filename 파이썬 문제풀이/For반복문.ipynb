{
  "nbformat": 4,
  "nbformat_minor": 0,
  "metadata": {
    "colab": {
      "name": "For반복문.ipynb",
      "provenance": [],
      "collapsed_sections": [],
      "authorship_tag": "ABX9TyNilTO8oQpJcIYoztguRmbb",
      "include_colab_link": true
    },
    "kernelspec": {
      "name": "python3",
      "display_name": "Python 3"
    },
    "language_info": {
      "name": "python"
    }
  },
  "cells": [
    {
      "cell_type": "markdown",
      "metadata": {
        "id": "view-in-github",
        "colab_type": "text"
      },
      "source": [
        "<a href=\"https://colab.research.google.com/github/InTaewoo/coding/blob/main/For%EB%B0%98%EB%B3%B5%EB%AC%B8.ipynb\" target=\"_parent\"><img src=\"https://colab.research.google.com/assets/colab-badge.svg\" alt=\"Open In Colab\"/></a>"
      ]
    },
    {
      "cell_type": "markdown",
      "metadata": {
        "id": "oCu0GJrfP5BR"
      },
      "source": [
        "# 1번 : 전국 거북이 마라톤 (반복문)"
      ]
    },
    {
      "cell_type": "code",
      "metadata": {
        "id": "kWhPz9zpP1JB"
      },
      "source": [
        "for i in range(5000):\n",
        "  print('안녕 거북이',i)"
      ],
      "execution_count": null,
      "outputs": []
    },
    {
      "cell_type": "markdown",
      "metadata": {
        "id": "QXVscQhzRMVC"
      },
      "source": [
        "# 2번 : for 기본 구조 (반복문)"
      ]
    },
    {
      "cell_type": "code",
      "metadata": {
        "colab": {
          "base_uri": "https://localhost:8080/"
        },
        "id": "mS53tTDeQHO9",
        "outputId": "87ca9067-6dda-4ad2-b72f-27df152d0037"
      },
      "source": [
        "character = ['앨리스','도도새','3월토끼']\n",
        "for i in character:\n",
        "  print(i)"
      ],
      "execution_count": null,
      "outputs": [
        {
          "output_type": "stream",
          "text": [
            "앨리스\n",
            "도도새\n",
            "3월토끼\n"
          ],
          "name": "stdout"
        }
      ]
    },
    {
      "cell_type": "code",
      "metadata": {
        "colab": {
          "base_uri": "https://localhost:8080/"
        },
        "id": "PmMgZDx4Rkqz",
        "outputId": "30c9b032-909d-4146-dcf2-87a1c4482dde"
      },
      "source": [
        "len(character)"
      ],
      "execution_count": null,
      "outputs": [
        {
          "output_type": "execute_result",
          "data": {
            "text/plain": [
              "3"
            ]
          },
          "metadata": {
            "tags": []
          },
          "execution_count": 10
        }
      ]
    },
    {
      "cell_type": "markdown",
      "metadata": {
        "id": "4O6EX8cUSaiB"
      },
      "source": [
        "# 3번 : 여왕의 크로켓 경기장 (반복문)"
      ]
    },
    {
      "cell_type": "code",
      "metadata": {
        "colab": {
          "base_uri": "https://localhost:8080/"
        },
        "id": "A-cNnzXcRvvK",
        "outputId": "3038ec97-6a55-495f-a2f9-641eac3e3e14"
      },
      "source": [
        "players = ['공작부인','흰 토끼','하트잭','모자장수']\n",
        "for i in players:\n",
        "  print(i,'퇴장!')"
      ],
      "execution_count": null,
      "outputs": [
        {
          "output_type": "stream",
          "text": [
            "공작부인 퇴장!\n",
            "흰 토끼 퇴장!\n",
            "하트잭 퇴장!\n",
            "모자장수 퇴장!\n"
          ],
          "name": "stdout"
        }
      ]
    },
    {
      "cell_type": "markdown",
      "metadata": {
        "id": "67xZi9vNS3eG"
      },
      "source": [
        "# 4번 : 문자열 반복하기 (반복문)"
      ]
    },
    {
      "cell_type": "code",
      "metadata": {
        "colab": {
          "base_uri": "https://localhost:8080/"
        },
        "id": "prM1o7JwSj1n",
        "outputId": "c1c4b9cc-a132-4ecb-f82c-e018c4957afc"
      },
      "source": [
        "cat = '체셔고양이'\n",
        "for i in cat:\n",
        "  print(i)"
      ],
      "execution_count": null,
      "outputs": [
        {
          "output_type": "stream",
          "text": [
            "체\n",
            "셔\n",
            "고\n",
            "양\n",
            "이\n"
          ],
          "name": "stdout"
        }
      ]
    },
    {
      "cell_type": "code",
      "metadata": {
        "colab": {
          "base_uri": "https://localhost:8080/",
          "height": 34
        },
        "id": "TJliwUsBTDQi",
        "outputId": "9e30fac8-042a-4b36-f36a-8166c313adab"
      },
      "source": [
        "cat"
      ],
      "execution_count": null,
      "outputs": [
        {
          "output_type": "execute_result",
          "data": {
            "application/vnd.google.colaboratory.intrinsic+json": {
              "type": "string"
            },
            "text/plain": [
              "'체셔고양이'"
            ]
          },
          "metadata": {
            "tags": []
          },
          "execution_count": 16
        }
      ]
    },
    {
      "cell_type": "markdown",
      "metadata": {
        "id": "VmCFOPp7TYE4"
      },
      "source": [
        "# 5번 : 들여쓰기 (반복문)"
      ]
    },
    {
      "cell_type": "code",
      "metadata": {
        "colab": {
          "base_uri": "https://localhost:8080/"
        },
        "id": "AlrtiT5MTP8-",
        "outputId": "dbed1db6-8ab3-469a-a213-2649126ac40d"
      },
      "source": [
        "nums = [0,1,2]\n",
        "for num in nums : \n",
        "\tprint(num)\n",
        "print(nums)\n",
        "print()\n",
        "nums = [0,1,2]\n",
        "for num in nums : \n",
        "\tprint(num)\n",
        "\tprint(nums)"
      ],
      "execution_count": null,
      "outputs": [
        {
          "output_type": "stream",
          "text": [
            "0\n",
            "1\n",
            "2\n",
            "[0, 1, 2]\n",
            "\n",
            "0\n",
            "[0, 1, 2]\n",
            "1\n",
            "[0, 1, 2]\n",
            "2\n",
            "[0, 1, 2]\n"
          ],
          "name": "stdout"
        }
      ]
    },
    {
      "cell_type": "code",
      "metadata": {
        "id": "5z_9FguZTp7v"
      },
      "source": [
        "#코드1은 num라는 변수를 모두 실행한 후 nums를 출력\n",
        "#코드2는 num과 nums 모두 실행하면서 출력 "
      ],
      "execution_count": null,
      "outputs": []
    },
    {
      "cell_type": "markdown",
      "metadata": {
        "id": "yr4Q52FlUVr0"
      },
      "source": [
        "# 6번 : 순서열 만들기 (반복문)"
      ]
    },
    {
      "cell_type": "code",
      "metadata": {
        "colab": {
          "base_uri": "https://localhost:8080/"
        },
        "id": "YVnx1pwLUYRm",
        "outputId": "ab9713f2-6da7-49e9-bd81-63c0f431ec5e"
      },
      "source": [
        "for i in range(9):\n",
        "  a = 2\n",
        "  print(a,'x',i+1,'=',a * (i+1))"
      ],
      "execution_count": null,
      "outputs": [
        {
          "output_type": "stream",
          "text": [
            "2 x 1 = 2\n",
            "2 x 2 = 4\n",
            "2 x 3 = 6\n",
            "2 x 4 = 8\n",
            "2 x 5 = 10\n",
            "2 x 6 = 12\n",
            "2 x 7 = 14\n",
            "2 x 8 = 16\n",
            "2 x 9 = 18\n"
          ],
          "name": "stdout"
        }
      ]
    },
    {
      "cell_type": "code",
      "metadata": {
        "colab": {
          "base_uri": "https://localhost:8080/"
        },
        "id": "1CadrOTqUxVP",
        "outputId": "04347d85-1b4b-4bc9-c322-ae1be8b02999"
      },
      "source": [
        "for i in range(10):\n",
        "  print('2 x %d = %s'%(i,i*2))"
      ],
      "execution_count": null,
      "outputs": [
        {
          "output_type": "stream",
          "text": [
            "2 x 0 = 0\n",
            "2 x 1 = 2\n",
            "2 x 2 = 4\n",
            "2 x 3 = 6\n",
            "2 x 4 = 8\n",
            "2 x 5 = 10\n",
            "2 x 6 = 12\n",
            "2 x 7 = 14\n",
            "2 x 8 = 16\n",
            "2 x 9 = 18\n"
          ],
          "name": "stdout"
        }
      ]
    },
    {
      "cell_type": "code",
      "metadata": {
        "id": "38jVakztXSU9"
      },
      "source": [
        ""
      ],
      "execution_count": null,
      "outputs": []
    },
    {
      "cell_type": "markdown",
      "metadata": {
        "id": "FM21hWoIXXhR"
      },
      "source": [
        "# 7번 : 하얀장미와 빨간장미 (반복문)"
      ]
    },
    {
      "cell_type": "code",
      "metadata": {
        "colab": {
          "base_uri": "https://localhost:8080/"
        },
        "id": "L56Ui2SiXZr9",
        "outputId": "4bf525c4-8744-495c-c134-27fba809a3c0"
      },
      "source": [
        "roses = ['하얀장미','하얀장미','하얀장미']\n",
        "for i in range(len(roses)):\n",
        "  roses[i]='빨간장미'\n",
        "  \n",
        "print(roses)"
      ],
      "execution_count": null,
      "outputs": [
        {
          "output_type": "stream",
          "text": [
            "['빨간장미', '빨간장미', '빨간장미']\n"
          ],
          "name": "stdout"
        }
      ]
    },
    {
      "cell_type": "code",
      "metadata": {
        "id": "pk-I07OyXgzz"
      },
      "source": [
        ""
      ],
      "execution_count": null,
      "outputs": []
    }
  ]
}
