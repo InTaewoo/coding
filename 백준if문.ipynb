{
  "nbformat": 4,
  "nbformat_minor": 0,
  "metadata": {
    "colab": {
      "name": "백준if문",
      "provenance": [],
      "collapsed_sections": [],
      "authorship_tag": "ABX9TyPzjz2lHMIo7TqsmWPlsjcX",
      "include_colab_link": true
    },
    "kernelspec": {
      "name": "python3",
      "display_name": "Python 3"
    },
    "language_info": {
      "name": "python"
    }
  },
  "cells": [
    {
      "cell_type": "markdown",
      "metadata": {
        "id": "view-in-github",
        "colab_type": "text"
      },
      "source": [
        "<a href=\"https://colab.research.google.com/github/InTaewoo/coding/blob/main/%EB%B0%B1%EC%A4%80if%EB%AC%B8.ipynb\" target=\"_parent\"><img src=\"https://colab.research.google.com/assets/colab-badge.svg\" alt=\"Open In Colab\"/></a>"
      ]
    },
    {
      "cell_type": "markdown",
      "metadata": {
        "id": "vYSKkJdQ0b_n"
      },
      "source": [
        "#1330번 두 수 비교하기"
      ]
    },
    {
      "cell_type": "code",
      "metadata": {
        "id": "Pfn3ZdMBxqv7"
      },
      "source": [
        "A,B = map(int,input( ).split())\n",
        "if A > B:\n",
        "  print('>')\n",
        "elif A < B:\n",
        "  print('<')\n",
        "else:\n",
        "  print('==')"
      ],
      "execution_count": null,
      "outputs": []
    },
    {
      "cell_type": "markdown",
      "metadata": {
        "id": "6vAkrLe10gOB"
      },
      "source": [
        "#9498번 시험성적"
      ]
    },
    {
      "cell_type": "code",
      "metadata": {
        "colab": {
          "base_uri": "https://localhost:8080/"
        },
        "id": "dYq0lIEDxsAE",
        "outputId": "551ecb54-5ae0-44d8-9f7b-cbb5ccfd0e90"
      },
      "source": [
        "score=int(input())\n",
        "if 90<=score<=100:\n",
        "  print('A')\n",
        "elif 80<=score<90:\n",
        "  print('B')\n",
        "elif 70<=score<80:\n",
        "  print('C')\n",
        "elif 60<=score<70:\n",
        "  print('D')\n",
        "else:\n",
        "  print('F')"
      ],
      "execution_count": null,
      "outputs": [
        {
          "output_type": "stream",
          "text": [
            "100\n",
            "A\n"
          ],
          "name": "stdout"
        }
      ]
    },
    {
      "cell_type": "markdown",
      "metadata": {
        "id": "QWtcToRW3-s7"
      },
      "source": [
        "#2753번 윤년"
      ]
    },
    {
      "cell_type": "code",
      "metadata": {
        "colab": {
          "base_uri": "https://localhost:8080/"
        },
        "id": "ydGwZ9SP05Vr",
        "outputId": "00b69434-ad67-4c7f-c7e7-15ed8a5123e3"
      },
      "source": [
        "year=int(input())\n",
        "if (year%4==0 and year%100!=0) or year%400==0:\n",
        "  print(1)\n",
        "else:\n",
        "  print(0)\n"
      ],
      "execution_count": null,
      "outputs": [
        {
          "output_type": "stream",
          "text": [
            "1999\n",
            "0\n"
          ],
          "name": "stdout"
        }
      ]
    },
    {
      "cell_type": "markdown",
      "metadata": {
        "id": "0xSLSL7H5q2N"
      },
      "source": [
        "#14681번 사분면고르기"
      ]
    },
    {
      "cell_type": "code",
      "metadata": {
        "colab": {
          "base_uri": "https://localhost:8080/"
        },
        "id": "_eFnAen-4lp9",
        "outputId": "0cb6256e-4b8e-4021-d282-36679e26071c"
      },
      "source": [
        "x=int(input())\n",
        "y=int(input())\n",
        "if x >0 and y>0:\n",
        "  print(1)\n",
        "elif x<0 and y>0:\n",
        "  print(2)\n",
        "elif x<0 and y<0:\n",
        "  print(3)\n",
        "else:\n",
        "  print(4)"
      ],
      "execution_count": null,
      "outputs": [
        {
          "output_type": "stream",
          "text": [
            "125\n",
            "-200\n",
            "4\n"
          ],
          "name": "stdout"
        }
      ]
    },
    {
      "cell_type": "markdown",
      "metadata": {
        "id": "38-z-ZEt7aOn"
      },
      "source": [
        "#2884번 알람 시계"
      ]
    },
    {
      "cell_type": "code",
      "metadata": {
        "colab": {
          "base_uri": "https://localhost:8080/"
        },
        "id": "rQF3fLKy6XLp",
        "outputId": "16eb6c0a-8770-44ba-cd62-7566cfeb73b6"
      },
      "source": [
        "H=int(input())\n",
        "M=int(input())\n",
        "if M >= 45:\n",
        "  print(H,M-45)\n",
        "elif M <45 and H >0:\n",
        "  print(H-1,M+15)\n",
        "else :\n",
        "  print(23,M+15)"
      ],
      "execution_count": 36,
      "outputs": [
        {
          "output_type": "stream",
          "text": [
            "23\n",
            "40\n",
            "22 55\n"
          ],
          "name": "stdout"
        }
      ]
    },
    {
      "cell_type": "code",
      "metadata": {
        "id": "wJgp86c38H4B"
      },
      "source": [
        "321"
      ],
      "execution_count": null,
      "outputs": []
    }
  ]
}