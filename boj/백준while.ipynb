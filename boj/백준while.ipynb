{
  "nbformat": 4,
  "nbformat_minor": 0,
  "metadata": {
    "colab": {
      "name": "백준while.ipynb",
      "provenance": [],
      "authorship_tag": "ABX9TyMA2O2knPzMvw2QPo5QQmKs",
      "include_colab_link": true
    },
    "kernelspec": {
      "name": "python3",
      "display_name": "Python 3"
    },
    "language_info": {
      "name": "python"
    }
  },
  "cells": [
    {
      "cell_type": "markdown",
      "metadata": {
        "id": "view-in-github",
        "colab_type": "text"
      },
      "source": [
        "<a href=\"https://colab.research.google.com/github/InTaewoo/coding/blob/main/%EB%B0%B1%EC%A4%80while.ipynb\" target=\"_parent\"><img src=\"https://colab.research.google.com/assets/colab-badge.svg\" alt=\"Open In Colab\"/></a>"
      ]
    },
    {
      "cell_type": "markdown",
      "metadata": {
        "id": "w4K3Yucn-tGc"
      },
      "source": [
        "#10952번"
      ]
    },
    {
      "cell_type": "code",
      "metadata": {
        "colab": {
          "base_uri": "https://localhost:8080/"
        },
        "id": "URIfIvBw-dzQ",
        "outputId": "9d95ffd6-ec3c-457a-b962-4ceee3811197"
      },
      "source": [
        "while True:\n",
        "    a, b = map(int, input().split())\n",
        "    if a == 0 and b == 0:\n",
        "      break\n",
        "    print(a+b)"
      ],
      "execution_count": null,
      "outputs": [
        {
          "output_type": "stream",
          "text": [
            "1 1\n",
            "2\n",
            "2 3\n",
            "5\n",
            "3 4\n",
            "7\n",
            "9 8\n",
            "17\n",
            "0 0\n"
          ],
          "name": "stdout"
        }
      ]
    },
    {
      "cell_type": "markdown",
      "metadata": {
        "id": "1tmovisrBUh2"
      },
      "source": [
        "#10951번 A+B-4"
      ]
    },
    {
      "cell_type": "code",
      "metadata": {
        "id": "VMKpSTAMB_hI"
      },
      "source": [
        "2"
      ],
      "execution_count": null,
      "outputs": []
    },
    {
      "cell_type": "code",
      "metadata": {
        "colab": {
          "base_uri": "https://localhost:8080/"
        },
        "id": "yW4pAS-BAHVl",
        "outputId": "37aa06e6-1c23-4820-c3d5-24c7f6c6ac56"
      },
      "source": [
        "while True:\n",
        "  try:        #try except : 파이썬에서 오류발생시 해결하는 코드\n",
        "    a,b=map(int,input().split())\n",
        "  except:\n",
        "    break\n",
        "  print(a+b)"
      ],
      "execution_count": null,
      "outputs": [
        {
          "output_type": "stream",
          "text": [
            "1 1\n",
            "2\n",
            "2 3\n",
            "5\n",
            "3 4\n",
            "7\n"
          ],
          "name": "stdout"
        }
      ]
    },
    {
      "cell_type": "markdown",
      "metadata": {
        "id": "dnCDGYoeFddt"
      },
      "source": [
        ""
      ]
    }
  ]
}
