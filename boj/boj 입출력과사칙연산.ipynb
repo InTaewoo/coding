{
  "nbformat": 4,
  "nbformat_minor": 0,
  "metadata": {
    "colab": {
      "name": "백준_입출력과사칙연산.ipynb",
      "provenance": [],
      "collapsed_sections": [],
      "authorship_tag": "ABX9TyO+Evy4YWRkNTF9hnb/ciLG",
      "include_colab_link": true
    },
    "kernelspec": {
      "name": "python3",
      "display_name": "Python 3"
    },
    "language_info": {
      "name": "python"
    }
  },
  "cells": [
    {
      "cell_type": "markdown",
      "metadata": {
        "id": "view-in-github",
        "colab_type": "text"
      },
      "source": [
        "<a href=\"https://colab.research.google.com/github/InTaewoo/coding/blob/main/%EB%B0%B1%EC%A4%80_%EC%9E%85%EC%B6%9C%EB%A0%A5%EA%B3%BC%EC%82%AC%EC%B9%99%EC%97%B0%EC%82%B0.ipynb\" target=\"_parent\"><img src=\"https://colab.research.google.com/assets/colab-badge.svg\" alt=\"Open In Colab\"/></a>"
      ]
    },
    {
      "cell_type": "markdown",
      "metadata": {
        "id": "h8YnRJ7mfw7o"
      },
      "source": [
        "#1000번 A+B"
      ]
    },
    {
      "cell_type": "code",
      "metadata": {
        "colab": {
          "base_uri": "https://localhost:8080/"
        },
        "id": "YsuTsABxc6cR",
        "outputId": "01e8371a-c9dd-426d-ee55-cbcd918f85a9"
      },
      "source": [
        "A,B=input().split()\n",
        "print(int(A)+int(B))"
      ],
      "execution_count": 11,
      "outputs": [
        {
          "output_type": "stream",
          "text": [
            "1 2\n",
            "3\n"
          ],
          "name": "stdout"
        }
      ]
    },
    {
      "cell_type": "markdown",
      "metadata": {
        "id": "rkqGhfuZf1YG"
      },
      "source": [
        "#1001번 A-B"
      ]
    },
    {
      "cell_type": "code",
      "metadata": {
        "colab": {
          "base_uri": "https://localhost:8080/"
        },
        "id": "RFox8vMNddkt",
        "outputId": "840d2bcd-6dad-4dca-e51d-cf30b96eba0a"
      },
      "source": [
        "A,B=input().split()\n",
        "print(int(A)-int(B))"
      ],
      "execution_count": 13,
      "outputs": [
        {
          "output_type": "stream",
          "text": [
            "3 2\n",
            "1\n"
          ],
          "name": "stdout"
        }
      ]
    },
    {
      "cell_type": "markdown",
      "metadata": {
        "id": "m5pYk8d0hD50"
      },
      "source": [
        "#2557번 Hello World"
      ]
    },
    {
      "cell_type": "code",
      "metadata": {
        "colab": {
          "base_uri": "https://localhost:8080/"
        },
        "id": "b7wRfARkhDv8",
        "outputId": "c38238d1-8132-41fd-95e1-5bc9d44e1ed6"
      },
      "source": [
        "print('Hello World!')"
      ],
      "execution_count": 14,
      "outputs": [
        {
          "output_type": "stream",
          "text": [
            "Hello World!\n"
          ],
          "name": "stdout"
        }
      ]
    },
    {
      "cell_type": "markdown",
      "metadata": {
        "id": "Y4BYd-DjhhA0"
      },
      "source": [
        "#10718번 We love kriii "
      ]
    },
    {
      "cell_type": "code",
      "metadata": {
        "colab": {
          "base_uri": "https://localhost:8080/"
        },
        "id": "nr6CjlNDgCxb",
        "outputId": "a5d20692-d7ec-4d4f-94c8-3ea8fe1e3db3"
      },
      "source": [
        "print(\"강한친구 대한육군\")\n",
        "print('강한친구 대한육군')"
      ],
      "execution_count": 27,
      "outputs": [
        {
          "output_type": "stream",
          "text": [
            "강한친구 대한육군\n",
            "강한친구 대한육군\n"
          ],
          "name": "stdout"
        }
      ]
    },
    {
      "cell_type": "markdown",
      "metadata": {
        "id": "MCfF7BJoinsQ"
      },
      "source": [
        "#10171번 고양이"
      ]
    },
    {
      "cell_type": "code",
      "metadata": {
        "colab": {
          "base_uri": "https://localhost:8080/"
        },
        "id": "C7MOEJ-Nhpo4",
        "outputId": "401c8ce7-2759-42cb-c4e0-e0344d91cd75"
      },
      "source": [
        "print('\\    /\\\\')\n",
        "print(\" )  ( ')\")\n",
        "print('(  /  )')\n",
        "print(' \\(__)|')"
      ],
      "execution_count": 37,
      "outputs": [
        {
          "output_type": "stream",
          "text": [
            "\\    /\\\n",
            " )  ( ')\n",
            "(  /  )\n",
            " \\(__)|\n"
          ],
          "name": "stdout"
        }
      ]
    },
    {
      "cell_type": "markdown",
      "metadata": {
        "id": "7ho8EyhhkuEm"
      },
      "source": [
        "#10172번 개"
      ]
    },
    {
      "cell_type": "code",
      "metadata": {
        "colab": {
          "base_uri": "https://localhost:8080/"
        },
        "id": "Zj2hh9lUisEE",
        "outputId": "c9a7a4cf-b843-4320-b914-393ceb0d357a"
      },
      "source": [
        "print('|\\_/|')\n",
        "print('|q p|   /}')\n",
        "print('( 0 )\"\"\"\\\\')\n",
        "print('|\"^\"`    |')\n",
        "print('||_/=\\\\\\__|')"
      ],
      "execution_count": 48,
      "outputs": [
        {
          "output_type": "stream",
          "text": [
            "|\\_/|\n",
            "|q p|   /}\n",
            "( 0 )\"\"\"\\\n",
            "|\"^\"`    |\n",
            "||_/=\\\\__|\n"
          ],
          "name": "stdout"
        }
      ]
    },
    {
      "cell_type": "markdown",
      "metadata": {
        "id": "Hq3i_cennUF2"
      },
      "source": [
        "#10998번 A×B "
      ]
    },
    {
      "cell_type": "code",
      "metadata": {
        "colab": {
          "base_uri": "https://localhost:8080/"
        },
        "id": "Xo0LyXY9k7Lx",
        "outputId": "f9e538f9-064c-4d3d-8073-6d29f0a5cf1a"
      },
      "source": [
        "A,B=input().split()\n",
        "print(int(A)*int(B))"
      ],
      "execution_count": 50,
      "outputs": [
        {
          "output_type": "stream",
          "text": [
            "1 2\n",
            "2\n"
          ],
          "name": "stdout"
        }
      ]
    },
    {
      "cell_type": "markdown",
      "metadata": {
        "id": "ErSTVfKfnsio"
      },
      "source": [
        "#1008번 A/B"
      ]
    },
    {
      "cell_type": "code",
      "metadata": {
        "colab": {
          "base_uri": "https://localhost:8080/"
        },
        "id": "guQ-Nmnknjmk",
        "outputId": "d157f4fe-d582-4d8f-9231-0a9e019afb74"
      },
      "source": [
        "A,B=input().split()\n",
        "print(int(A)/int(B))"
      ],
      "execution_count": 52,
      "outputs": [
        {
          "output_type": "stream",
          "text": [
            "4 5\n",
            "0.8\n"
          ],
          "name": "stdout"
        }
      ]
    },
    {
      "cell_type": "markdown",
      "metadata": {
        "id": "9xAHGyEEoarP"
      },
      "source": [
        "#10869번 사칙연산"
      ]
    },
    {
      "cell_type": "code",
      "metadata": {
        "colab": {
          "base_uri": "https://localhost:8080/"
        },
        "id": "qm409-VHoEo3",
        "outputId": "7dece428-d36e-4c99-bbcd-8a28e3e7d6e7"
      },
      "source": [
        "A,B=input().split()\n",
        "print(int(A)+int(B))\n",
        "print(int(A)-int(B))\n",
        "print(int(A)*int(B))\n",
        "print(int(A)//int(B))\n",
        "print(int(A)%int(B))"
      ],
      "execution_count": 57,
      "outputs": [
        {
          "output_type": "stream",
          "text": [
            "7 3\n",
            "10\n",
            "4\n",
            "21\n",
            "2\n",
            "1\n"
          ],
          "name": "stdout"
        }
      ]
    },
    {
      "cell_type": "code",
      "metadata": {
        "colab": {
          "base_uri": "https://localhost:8080/"
        },
        "id": "7RlZMzvCqGTc",
        "outputId": "3ee5bf44-f515-4dfb-bc61-476bc210aef4"
      },
      "source": [
        "A,B=map(int,input().split())\n",
        "print(A+B,A-B,A*B,A//B,A%B,sep='\\n')"
      ],
      "execution_count": 61,
      "outputs": [
        {
          "output_type": "stream",
          "text": [
            "7 3\n",
            "10\n",
            "4\n",
            "21\n",
            "2\n",
            "1\n"
          ],
          "name": "stdout"
        }
      ]
    },
    {
      "cell_type": "markdown",
      "metadata": {
        "id": "HCTHuUOuqrmq"
      },
      "source": [
        "#10430 나머지\n",
        "\n",
        "\n",
        "\n"
      ]
    },
    {
      "cell_type": "code",
      "metadata": {
        "colab": {
          "base_uri": "https://localhost:8080/"
        },
        "id": "hgN7O501q5dS",
        "outputId": "7fc0ea72-3784-4466-e6e0-6c823de0f3a7"
      },
      "source": [
        "A,B,C=map(int,input().split())\n",
        "print((A+B)%C)\n",
        "print(((A%C) + (B%C))%C)\n",
        "print((A*B)%C)\n",
        "print(((A%C)*(B%C))%C)"
      ],
      "execution_count": 84,
      "outputs": [
        {
          "output_type": "stream",
          "text": [
            "5 8 4\n",
            "1\n",
            "1\n",
            "0\n",
            "0\n"
          ],
          "name": "stdout"
        }
      ]
    },
    {
      "cell_type": "markdown",
      "metadata": {
        "id": "Gwtqtlw2suob"
      },
      "source": [
        "#2588번 곱셈"
      ]
    },
    {
      "cell_type": "code",
      "metadata": {
        "colab": {
          "base_uri": "https://localhost:8080/"
        },
        "id": "76lcZ_XwrU4f",
        "outputId": "2ac22ae7-914b-415f-e6c6-9e51d9d84205"
      },
      "source": [
        "A=int(input())\n",
        "B=(input())\n",
        "A1=A*int(B[2])\n",
        "A2=A*int(B[1])\n",
        "A3=A*int(B[0])\n",
        "A4=A*int(B)\n",
        "print(A1,A2,A3,A4,sep='\\n')"
      ],
      "execution_count": 101,
      "outputs": [
        {
          "output_type": "stream",
          "text": [
            "472\n",
            "385\n",
            "2360\n",
            "3776\n",
            "1416\n",
            "181720\n"
          ],
          "name": "stdout"
        }
      ]
    },
    {
      "cell_type": "code",
      "metadata": {
        "id": "3_ZczTyftgwn"
      },
      "source": [
        "22"
      ],
      "execution_count": null,
      "outputs": []
    }
  ]
}
