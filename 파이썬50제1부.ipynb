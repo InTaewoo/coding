{
  "nbformat": 4,
  "nbformat_minor": 0,
  "metadata": {
    "colab": {
      "name": "파이썬50제1부.ipynb",
      "provenance": [],
      "collapsed_sections": [],
      "authorship_tag": "ABX9TyPWW5XPvY771+JAaapXlvTp",
      "include_colab_link": true
    },
    "kernelspec": {
      "name": "python3",
      "display_name": "Python 3"
    },
    "language_info": {
      "name": "python"
    }
  },
  "cells": [
    {
      "cell_type": "markdown",
      "metadata": {
        "id": "view-in-github",
        "colab_type": "text"
      },
      "source": [
        "<a href=\"https://colab.research.google.com/github/InTaewoo/coding/blob/main/%ED%8C%8C%EC%9D%B4%EC%8D%AC50%EC%A0%9C1%EB%B6%80.ipynb\" target=\"_parent\"><img src=\"https://colab.research.google.com/assets/colab-badge.svg\" alt=\"Open In Colab\"/></a>"
      ]
    },
    {
      "cell_type": "markdown",
      "metadata": {
        "id": "WMibhAJ1sQVM"
      },
      "source": [
        "#2번 all_unique"
      ]
    },
    {
      "cell_type": "code",
      "metadata": {
        "colab": {
          "base_uri": "https://localhost:8080/"
        },
        "id": "MPtJQ8zyq9P4",
        "outputId": "0afa9673-26a6-4322-cecb-a029b7643d8a"
      },
      "source": [
        "def all_unique(lst):\n",
        "  return len(lst)==len(set(lst))\n",
        "print(all_unique([1, 2, 3, 4, 5, 6]))\n",
        "print(all_unique([1, 2, 2, 3, 4, 5]))\n"
      ],
      "execution_count": 3,
      "outputs": [
        {
          "output_type": "stream",
          "text": [
            "True\n",
            "False\n"
          ],
          "name": "stdout"
        }
      ]
    },
    {
      "cell_type": "markdown",
      "metadata": {
        "id": "IW5Ea8xhsWPJ"
      },
      "source": [
        "#3번 : capitalize every word"
      ]
    },
    {
      "cell_type": "code",
      "metadata": {
        "colab": {
          "base_uri": "https://localhost:8080/",
          "height": 34
        },
        "id": "A9NnnbXhre3x",
        "outputId": "ff596433-bc30-4580-bcf6-300ce05b4045"
      },
      "source": [
        "s = \"hello world\"\n",
        "\n",
        "def capitalize_every_word(s):\n",
        "  return s.title() #s.title 앞글자  대문자로변경\n",
        "capitalize_every_word(s)"
      ],
      "execution_count": 6,
      "outputs": [
        {
          "output_type": "execute_result",
          "data": {
            "application/vnd.google.colaboratory.intrinsic+json": {
              "type": "string"
            },
            "text/plain": [
              "'Hello World'"
            ]
          },
          "metadata": {
            "tags": []
          },
          "execution_count": 6
        }
      ]
    },
    {
      "cell_type": "markdown",
      "metadata": {
        "id": "ayV_J8HgtsKP"
      },
      "source": [
        "#4번 : celsius to fahrenheit"
      ]
    },
    {
      "cell_type": "code",
      "metadata": {
        "colab": {
          "base_uri": "https://localhost:8080/"
        },
        "id": "DeUNIXS4sezf",
        "outputId": "92d9e329-2ee1-4db5-ae80-d1198aa3ce65"
      },
      "source": [
        "def celsius_to_fahrenheit(celsius):\n",
        "  return (celsius*1.8)+32\n",
        "celsius_to_fahrenheit(180)"
      ],
      "execution_count": 13,
      "outputs": [
        {
          "output_type": "execute_result",
          "data": {
            "text/plain": [
              "356.0"
            ]
          },
          "metadata": {
            "tags": []
          },
          "execution_count": 13
        }
      ]
    },
    {
      "cell_type": "markdown",
      "metadata": {
        "id": "BLQtVmOexSCP"
      },
      "source": [
        "#5번 : compact"
      ]
    },
    {
      "cell_type": "code",
      "metadata": {
        "colab": {
          "base_uri": "https://localhost:8080/"
        },
        "id": "oN2NL4mSuGN6",
        "outputId": "dc987e64-989f-4141-90a1-904637da907b"
      },
      "source": [
        "lst = [0, 1, False, 2, '', 3, 'a', 's', 34]\n",
        "def compact(lst):\n",
        "  return list(filter(None,lst)) #filter=특정조건에 일치하는 값만st = [0, 1, False, 2, '', 3, 'a', 's', 34]\n",
        "\n",
        "print(compact(lst))"
      ],
      "execution_count": 23,
      "outputs": [
        {
          "output_type": "stream",
          "text": [
            "[1, 2, 3, 'a', 's', 34]\n"
          ],
          "name": "stdout"
        }
      ]
    },
    {
      "cell_type": "markdown",
      "metadata": {
        "id": "8blNROxOzLIu"
      },
      "source": [
        "#6번 : count occurences"
      ]
    },
    {
      "cell_type": "code",
      "metadata": {
        "colab": {
          "base_uri": "https://localhost:8080/"
        },
        "id": "Ax1S4lR2x1hO",
        "outputId": "1986debc-5d9c-4271-d98b-6d786be45955"
      },
      "source": [
        "lst = [1,1,2,1,2,3]\n",
        "def count_occurences(lst,val):\n",
        "  return lst.count(val)\n",
        "print(count_occurences(lst,1))\n"
      ],
      "execution_count": 32,
      "outputs": [
        {
          "output_type": "stream",
          "text": [
            "3\n"
          ],
          "name": "stdout"
        }
      ]
    },
    {
      "cell_type": "markdown",
      "metadata": {
        "id": "EqwV1z0fGJ8v"
      },
      "source": [
        "#7번 : degrees to rads"
      ]
    },
    {
      "cell_type": "code",
      "metadata": {
        "colab": {
          "base_uri": "https://localhost:8080/"
        },
        "id": "5GhjzOn-z21Q",
        "outputId": "43932e6f-d442-4557-edda-f3d1dcb3e32a"
      },
      "source": [
        "from math import pi\n",
        "def degreese_to_rads(deg):\n",
        "  return (deg*pi)/180.0\n",
        "degreese_to_rads(180)"
      ],
      "execution_count": 34,
      "outputs": [
        {
          "output_type": "execute_result",
          "data": {
            "text/plain": [
              "3.141592653589793"
            ]
          },
          "metadata": {
            "tags": []
          },
          "execution_count": 34
        }
      ]
    },
    {
      "cell_type": "markdown",
      "metadata": {
        "id": "JZfgF88OFAwb"
      },
      "source": [
        "#8번 : difference"
      ]
    },
    {
      "cell_type": "code",
      "metadata": {
        "colab": {
          "base_uri": "https://localhost:8080/"
        },
        "id": "bn5Li3OaHssT",
        "outputId": "8670c41f-59f0-4080-8438-74d0fd01a656"
      },
      "source": [
        "lst1 = [1,2,3]\n",
        "lst2 = [1,2,4]\n",
        "def difference(a,b):\n",
        "  return list(set(a)-set(b))\n",
        "print(difference(lst1,lst2))"
      ],
      "execution_count": 36,
      "outputs": [
        {
          "output_type": "stream",
          "text": [
            "[3]\n"
          ],
          "name": "stdout"
        }
      ]
    },
    {
      "cell_type": "markdown",
      "metadata": {
        "id": "SQpN7Sd_NgRA"
      },
      "source": [
        "#9번 : digitize"
      ]
    },
    {
      "cell_type": "code",
      "metadata": {
        "colab": {
          "base_uri": "https://localhost:8080/"
        },
        "id": "MnFunvWoISiE",
        "outputId": "0bc4deee-98f3-4f0a-aea3-ad15b23ac674"
      },
      "source": [
        "def digitize(n):\n",
        "  return list(map(int,str(n)))\n",
        "digitize(123)"
      ],
      "execution_count": 46,
      "outputs": [
        {
          "output_type": "execute_result",
          "data": {
            "text/plain": [
              "[1, 2, 3]"
            ]
          },
          "metadata": {
            "tags": []
          },
          "execution_count": 46
        }
      ]
    },
    {
      "cell_type": "markdown",
      "metadata": {
        "id": "Z7vn_xTKRZId"
      },
      "source": [
        ""
      ]
    },
    {
      "cell_type": "code",
      "metadata": {
        "colab": {
          "base_uri": "https://localhost:8080/"
        },
        "id": "dFW6BMtEN9sH",
        "outputId": "e6130dd6-7265-41c7-d54d-a0a6903f84f7"
      },
      "source": [
        "a = 123\n",
        "lst = []\n",
        "def digitize(n):\n",
        "    for i in str(n):\n",
        "        lst.append(i)\n",
        "    return lst\n",
        "print(digitize(a))"
      ],
      "execution_count": 47,
      "outputs": [
        {
          "output_type": "stream",
          "text": [
            "['1', '2', '3']\n"
          ],
          "name": "stdout"
        }
      ]
    },
    {
      "cell_type": "code",
      "metadata": {
        "id": "hH6-deNNRsaI"
      },
      "source": [
        ""
      ],
      "execution_count": null,
      "outputs": []
    }
  ]
}