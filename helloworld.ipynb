{
  "nbformat": 4,
  "nbformat_minor": 0,
  "metadata": {
    "colab": {
      "name": "helloworld.ipynb",
      "provenance": [],
      "authorship_tag": "ABX9TyOZL9bRSEaHYwX66NNzV6k0",
      "include_colab_link": true
    },
    "kernelspec": {
      "name": "python3",
      "display_name": "Python 3"
    },
    "language_info": {
      "name": "python"
    }
  },
  "cells": [
    {
      "cell_type": "markdown",
      "metadata": {
        "id": "view-in-github",
        "colab_type": "text"
      },
      "source": [
        "<a href=\"https://colab.research.google.com/github/InTaewoo/coding/blob/main/helloworld.ipynb\" target=\"_parent\"><img src=\"https://colab.research.google.com/assets/colab-badge.svg\" alt=\"Open In Colab\"/></a>"
      ]
    },
    {
      "cell_type": "code",
      "metadata": {
        "colab": {
          "base_uri": "https://localhost:8080/"
        },
        "id": "J4qwkbBP9UQi",
        "outputId": "c3e176d1-b96e-4eb3-decc-0509cfa267f4"
      },
      "source": [
        "#2\n",
        "print('토끼야 안녕!')"
      ],
      "execution_count": 1,
      "outputs": [
        {
          "output_type": "stream",
          "text": [
            "토끼야 안녕!\n"
          ],
          "name": "stdout"
        }
      ]
    },
    {
      "cell_type": "markdown",
      "metadata": {
        "id": "-ES7diZu93x_"
      },
      "source": [
        "# 3번 : 숫자형 (자료형)\n",
        "문제\n",
        "다음과 같은 output 이 출력되도록 하는 코드를 baseline을 이용해 작성하세요.\n"
      ]
    },
    {
      "cell_type": "code",
      "metadata": {
        "colab": {
          "base_uri": "https://localhost:8080/"
        },
        "id": "QsezbbHR9c4l",
        "outputId": "a3435144-afce-4088-d0cf-9055fdb23a4b"
      },
      "source": [
        "print(1)\n",
        "print(-2)\n",
        "print(3.14)\n"
      ],
      "execution_count": 2,
      "outputs": [
        {
          "output_type": "stream",
          "text": [
            "1\n",
            "-2\n",
            "3.14\n"
          ],
          "name": "stdout"
        }
      ]
    },
    {
      "cell_type": "code",
      "metadata": {
        "colab": {
          "base_uri": "https://localhost:8080/"
        },
        "id": "sxUwSnk7-IBS",
        "outputId": "4ec06e30-791e-4dc7-ef93-4d7784e5cbc4"
      },
      "source": [
        "print(1, -2, 3.14, sep= '\\n') \n",
        "#print('1\\n-2\\n3.14')"
      ],
      "execution_count": 4,
      "outputs": [
        {
          "output_type": "stream",
          "text": [
            "1\n",
            "-2\n",
            "3.14\n"
          ],
          "name": "stdout"
        }
      ]
    },
    {
      "cell_type": "markdown",
      "metadata": {
        "id": "LSUmbJoW-pPo"
      },
      "source": [
        "# 4번 : 더하기, 빼기, 곱하기, 나누기 (연산자)\n",
        "문제\n",
        "다음 code 에서의 출력값 a, b, c, d는 각각 무엇일까요?\n",
        "\n",
        "베이스라인"
      ]
    },
    {
      "cell_type": "code",
      "metadata": {
        "id": "2aJdQPK6-RDM"
      },
      "source": [
        "a=3\n",
        "b=1\n",
        "c=8\n",
        "d=2"
      ],
      "execution_count": 5,
      "outputs": []
    },
    {
      "cell_type": "markdown",
      "metadata": {
        "id": "c3FApYQ__Tmy"
      },
      "source": [
        "# 5번 : 제곱, 몫, 나머지 (연산자)\n",
        "문제\n",
        "다음 code 에서의 출력값 a, b, c는 각각 무엇일까요?\n",
        "\n",
        "베이스라인\n"
      ]
    },
    {
      "cell_type": "code",
      "metadata": {
        "colab": {
          "base_uri": "https://localhost:8080/"
        },
        "id": "T-FiZ439_S-g",
        "outputId": "247371f0-b7f9-4333-d05c-9013f61804cc"
      },
      "source": [
        "print(5**2)\n",
        "print(5//2)\n",
        "print(5%2)"
      ],
      "execution_count": 7,
      "outputs": [
        {
          "output_type": "stream",
          "text": [
            "25\n",
            "2\n",
            "1\n"
          ],
          "name": "stdout"
        }
      ]
    },
    {
      "cell_type": "markdown",
      "metadata": {
        "id": "uf44rDII_vIp"
      },
      "source": [
        "# 6번 : 너무 바쁜 흰 토끼 (연산자)"
      ]
    },
    {
      "cell_type": "code",
      "metadata": {
        "colab": {
          "base_uri": "https://localhost:8080/"
        },
        "id": "M9H4TlzV_u7w",
        "outputId": "4184a373-b3a3-4ff8-a096-b07a42df4065"
      },
      "source": [
        "print(3+7)\n",
        "print(6*3)\n",
        "print(4**2)\n",
        "print(9%5)"
      ],
      "execution_count": 8,
      "outputs": [
        {
          "output_type": "stream",
          "text": [
            "10\n",
            "18\n",
            "16\n",
            "4\n"
          ],
          "name": "stdout"
        }
      ]
    },
    {
      "cell_type": "markdown",
      "metadata": {
        "id": "KG86MkLBAOlw"
      },
      "source": [
        "#7 번 : 문자열 (문자열)"
      ]
    },
    {
      "cell_type": "code",
      "metadata": {
        "colab": {
          "base_uri": "https://localhost:8080/"
        },
        "id": "p0Y99nv__e7l",
        "outputId": "e59b34c8-61c4-4bbc-9f02-1eb6a0a3baf6"
      },
      "source": [
        "print('Hello World!')\n",
        "print(3.14)\n",
        "print('3.14')\n",
        "print('토끼야 안녕!')\n",
        "print(\"토끼야 안녕!\")"
      ],
      "execution_count": 9,
      "outputs": [
        {
          "output_type": "stream",
          "text": [
            "Hello World!\n",
            "3.14\n",
            "3.14\n",
            "토끼야 안녕!\n",
            "토끼야 안녕!\n"
          ],
          "name": "stdout"
        }
      ]
    },
    {
      "cell_type": "code",
      "metadata": {
        "id": "Wd5fI6PyATqV"
      },
      "source": [
        ""
      ],
      "execution_count": null,
      "outputs": []
    },
    {
      "cell_type": "markdown",
      "metadata": {
        "id": "DZN5K8imAfwf"
      },
      "source": [
        "#8 번 : 문자열 연산하기 (문자열)"
      ]
    },
    {
      "cell_type": "code",
      "metadata": {
        "colab": {
          "base_uri": "https://localhost:8080/"
        },
        "id": "w-NqtPnOAhw0",
        "outputId": "e32c5ae6-5795-4b74-bbd8-7652a522bbc5"
      },
      "source": [
        "print('토끼'+'야 안녕!')\n",
        "print('다람쥐'+'야 안녕!')"
      ],
      "execution_count": 10,
      "outputs": [
        {
          "output_type": "stream",
          "text": [
            "토끼야 안녕!\n",
            "다람쥐야 안녕!\n"
          ],
          "name": "stdout"
        }
      ]
    },
    {
      "cell_type": "markdown",
      "metadata": {
        "id": "vjyvvVaLAzlt"
      },
      "source": [
        "# 9번 : 무지개 만들기 (문자열)"
      ]
    },
    {
      "cell_type": "code",
      "metadata": {
        "colab": {
          "base_uri": "https://localhost:8080/"
        },
        "id": "lgp2kuDJAj7T",
        "outputId": "0d97f97a-a295-4fb5-a1d9-6035817bb4c2"
      },
      "source": [
        "print('빨'+ '주'+ '노'+ '초'+ '파'+ '남' +'보')"
      ],
      "execution_count": 15,
      "outputs": [
        {
          "output_type": "stream",
          "text": [
            "빨주노초파남보\n"
          ],
          "name": "stdout"
        }
      ]
    },
    {
      "cell_type": "code",
      "metadata": {
        "colab": {
          "base_uri": "https://localhost:8080/"
        },
        "id": "vvBva6BKA232",
        "outputId": "713bf9fc-afef-49e7-d99e-3bc5b6b4f63e"
      },
      "source": [
        "print('빨', '주', '노', '초', '파', '남' ,'보', sep='  ')"
      ],
      "execution_count": 18,
      "outputs": [
        {
          "output_type": "stream",
          "text": [
            "빨  주  노  초  파  남  보\n"
          ],
          "name": "stdout"
        }
      ]
    },
    {
      "cell_type": "markdown",
      "metadata": {
        "id": "uztJmxiIB2NI"
      },
      "source": [
        "# 10번 : 변수 (변수)"
      ]
    },
    {
      "cell_type": "code",
      "metadata": {
        "colab": {
          "base_uri": "https://localhost:8080/"
        },
        "id": "Sltgk9v_B9hd",
        "outputId": "3db22e09-86ce-4e9c-f2ff-a6f2f6ceb49c"
      },
      "source": [
        "rainbow = '빨주노초파남보'\n",
        "print(rainbow)"
      ],
      "execution_count": 19,
      "outputs": [
        {
          "output_type": "stream",
          "text": [
            "빨주노초파남보\n"
          ],
          "name": "stdout"
        }
      ]
    },
    {
      "cell_type": "code",
      "metadata": {
        "id": "uJIXX0dHCAIA"
      },
      "source": [
        ""
      ],
      "execution_count": null,
      "outputs": []
    },
    {
      "cell_type": "markdown",
      "metadata": {
        "id": "rx7S_zSiCKYm"
      },
      "source": [
        "# 11번 : 일일 바리스타 (변수)"
      ]
    },
    {
      "cell_type": "code",
      "metadata": {
        "colab": {
          "base_uri": "https://localhost:8080/"
        },
        "id": "kn0DmRpeCMXk",
        "outputId": "2236ce84-e727-494f-d7ed-ed8a475a355b"
      },
      "source": [
        "coffee=4100\n",
        "juice=4600\n",
        "tea=3900\n",
        "print(coffee*3,juice*2,tea*1)\n",
        "print(coffee*4,juice*3,tea*3)\n",
        "print(coffee*1,juice*1,tea*2)"
      ],
      "execution_count": 29,
      "outputs": [
        {
          "output_type": "stream",
          "text": [
            "12300 9200 3900\n",
            "16400 13800 11700\n",
            "4100 4600 7800\n"
          ],
          "name": "stdout"
        }
      ]
    }
  ]
}