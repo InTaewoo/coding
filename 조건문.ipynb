{
  "nbformat": 4,
  "nbformat_minor": 0,
  "metadata": {
    "colab": {
      "name": "조건문.ipynb",
      "provenance": [],
      "authorship_tag": "ABX9TyNl8DhRUwafOAB21bGCk2Ro",
      "include_colab_link": true
    },
    "kernelspec": {
      "name": "python3",
      "display_name": "Python 3"
    },
    "language_info": {
      "name": "python"
    }
  },
  "cells": [
    {
      "cell_type": "markdown",
      "metadata": {
        "id": "view-in-github",
        "colab_type": "text"
      },
      "source": [
        "<a href=\"https://colab.research.google.com/github/InTaewoo/coding/blob/main/%EC%A1%B0%EA%B1%B4%EB%AC%B8.ipynb\" target=\"_parent\"><img src=\"https://colab.research.google.com/assets/colab-badge.svg\" alt=\"Open In Colab\"/></a>"
      ]
    },
    {
      "cell_type": "markdown",
      "metadata": {
        "id": "fXvBghMHzmyZ"
      },
      "source": [
        "# 1번 : 참과 거짓 (자료형)"
      ]
    },
    {
      "cell_type": "code",
      "metadata": {
        "colab": {
          "base_uri": "https://localhost:8080/"
        },
        "id": "3NNqQ5xszj2q",
        "outputId": "dda0cba0-0566-42a0-e7f1-a3c8efc1e988"
      },
      "source": [
        "print(True)\n",
        "print(False)\n",
        "#결과값이 참이면 True를 내고 거짓이면 False를 낸다"
      ],
      "execution_count": 1,
      "outputs": [
        {
          "output_type": "stream",
          "text": [
            "True\n",
            "False\n"
          ],
          "name": "stdout"
        }
      ]
    },
    {
      "cell_type": "markdown",
      "metadata": {
        "id": "0ESBc_sH0Vlo"
      },
      "source": [
        "# 2번 : 값 비교하기 (자료형)"
      ]
    },
    {
      "cell_type": "code",
      "metadata": {
        "colab": {
          "base_uri": "https://localhost:8080/"
        },
        "id": "YYlaBo4A0UcG",
        "outputId": "ff225dc1-5d1e-4aec-cb62-12a73b803301"
      },
      "source": [
        "print(1==2)"
      ],
      "execution_count": 2,
      "outputs": [
        {
          "output_type": "stream",
          "text": [
            "False\n"
          ],
          "name": "stdout"
        }
      ]
    },
    {
      "cell_type": "markdown",
      "metadata": {
        "id": "gSAkVQUv0o6C"
      },
      "source": [
        "# 3번 : if 기본구조 (조건문)"
      ]
    },
    {
      "cell_type": "code",
      "metadata": {
        "colab": {
          "base_uri": "https://localhost:8080/"
        },
        "id": "wFRHR6oQ0Yc0",
        "outputId": "e745b9b0-a503-4996-f3dc-8e253a0a4a30"
      },
      "source": [
        "score=90\n",
        "if score>80:\n",
        "  print('합격입니다.')"
      ],
      "execution_count": 3,
      "outputs": [
        {
          "output_type": "stream",
          "text": [
            "합격입니다.\n"
          ],
          "name": "stdout"
        }
      ]
    },
    {
      "cell_type": "code",
      "metadata": {
        "id": "W8m5puah0vmI"
      },
      "source": [
        "#score=90, 조건이 True이기 때문에 합격입니다 출력."
      ],
      "execution_count": 4,
      "outputs": []
    },
    {
      "cell_type": "markdown",
      "metadata": {
        "id": "NKTXJJOU17Km"
      },
      "source": [
        "# 4번 : else 와 elif (조건문)"
      ]
    },
    {
      "cell_type": "code",
      "metadata": {
        "colab": {
          "base_uri": "https://localhost:8080/"
        },
        "id": "JocqUs-609YR",
        "outputId": "a47b7632-c524-4fba-b845-f75f85f55d36"
      },
      "source": [
        "score=75\n",
        "if 80 < score <= 100:\n",
        "  print('학점은 A입니다.')\n",
        "elif 60 <score<=80:\n",
        " \tprint('학점은 B입니다.')\n",
        "elif 40 < score <= 60:\n",
        "\tprint('학점은 C입니다.')\n",
        "else :\n",
        "\tprint('학점은 F입니다.')"
      ],
      "execution_count": 5,
      "outputs": [
        {
          "output_type": "stream",
          "text": [
            "학점은 B입니다.\n"
          ],
          "name": "stdout"
        }
      ]
    },
    {
      "cell_type": "markdown",
      "metadata": {
        "id": "T6uGC63a2FVj"
      },
      "source": [
        "# 5번 : 자동 입장료 계산기 (조건문)"
      ]
    },
    {
      "cell_type": "code",
      "metadata": {
        "colab": {
          "base_uri": "https://localhost:8080/"
        },
        "id": "5WtHSPaD11_6",
        "outputId": "e7fad057-c716-4d41-9216-42e5ee7c2629"
      },
      "source": [
        "total_price=0\n",
        "ages = [22,21,17,32,4,28,19,8]\n",
        "for age in ages:\n",
        "  if age >= 20 :\n",
        "    total_price=total_price+8000\n",
        "  elif 10<=age<=19:\n",
        "    total_price=total_price+5000\n",
        "  else :\n",
        "    total_price=total_price+2500\n",
        "print('총 입장료는 ', str(total_price),'원 입니다.',sep=\"\")\n",
        "\n"
      ],
      "execution_count": 26,
      "outputs": [
        {
          "output_type": "stream",
          "text": [
            "총 입장료는 47000원 입니다.\n"
          ],
          "name": "stdout"
        }
      ]
    },
    {
      "cell_type": "markdown",
      "metadata": {
        "id": "EERbbi0558pu"
      },
      "source": [
        "# 6번 : 여러 조건 판단하기 (조건문)"
      ]
    },
    {
      "cell_type": "code",
      "metadata": {
        "colab": {
          "base_uri": "https://localhost:8080/"
        },
        "id": "MvbQDYc_2WIS",
        "outputId": "7a32dccc-ffe0-48ed-dbff-c7ce1b12d82d"
      },
      "source": [
        "games = 12\n",
        "points = 25\n",
        "if (games>=10) & (points >=20):\n",
        "  print('MVP로 선정되었습니다.')"
      ],
      "execution_count": 36,
      "outputs": [
        {
          "output_type": "stream",
          "text": [
            "MVP로 선정되었습니다.\n"
          ],
          "name": "stdout"
        }
      ]
    },
    {
      "cell_type": "markdown",
      "metadata": {
        "id": "9srVFSE17DBG"
      },
      "source": [
        "# 7번 : 사탕 도둑을 잡아라 (조건문)"
      ]
    },
    {
      "cell_type": "code",
      "metadata": {
        "colab": {
          "base_uri": "https://localhost:8080/"
        },
        "id": "k7Wv8tX96bdN",
        "outputId": "28708895-7e4c-43d1-e0b8-775045b0ce91"
      },
      "source": [
        "suspects = [['거위','새','암컷'],['푸들','개','수컷'],['비글','개','암컷']]\n",
        "for suspect in suspects:\n",
        "  if suspect[1]=='개' and suspect[2]=='암컷':\n",
        "    print('범인은 ',str(suspect[0]),'입니다!',sep='')\n",
        "  "
      ],
      "execution_count": 58,
      "outputs": [
        {
          "output_type": "stream",
          "text": [
            "범인은 비글입니다!\n"
          ],
          "name": "stdout"
        }
      ]
    },
    {
      "cell_type": "code",
      "metadata": {
        "id": "CIC7URjH7fre"
      },
      "source": [
        ""
      ],
      "execution_count": null,
      "outputs": []
    }
  ]
}