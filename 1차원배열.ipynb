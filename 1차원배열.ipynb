{
  "nbformat": 4,
  "nbformat_minor": 0,
  "metadata": {
    "colab": {
      "name": "1차원배열.ipynb",
      "provenance": [],
      "collapsed_sections": [],
      "authorship_tag": "ABX9TyOcfZ/UUMz0ZiXhyDyTe0ij",
      "include_colab_link": true
    },
    "kernelspec": {
      "name": "python3",
      "display_name": "Python 3"
    },
    "language_info": {
      "name": "python"
    }
  },
  "cells": [
    {
      "cell_type": "markdown",
      "metadata": {
        "id": "view-in-github",
        "colab_type": "text"
      },
      "source": [
        "<a href=\"https://colab.research.google.com/github/InTaewoo/coding/blob/main/1%EC%B0%A8%EC%9B%90%EB%B0%B0%EC%97%B4.ipynb\" target=\"_parent\"><img src=\"https://colab.research.google.com/assets/colab-badge.svg\" alt=\"Open In Colab\"/></a>"
      ]
    },
    {
      "cell_type": "markdown",
      "metadata": {
        "id": "MKbnH9NUJqyP"
      },
      "source": [
        "#10818번 최소, 최대"
      ]
    },
    {
      "cell_type": "code",
      "metadata": {
        "colab": {
          "base_uri": "https://localhost:8080/"
        },
        "id": "u5GQpo40JdOH",
        "outputId": "a18232a1-443f-4b06-cf51-4372c9b811e8"
      },
      "source": [
        "N=int(input())\n",
        "Num_list=list(map(int,input().split()))\n",
        "n_max=Num_list[0]\n",
        "n_min=Num_list[0]\n",
        "for num in Num_list:\n",
        "  if num > n_max:\n",
        "    n_max=num\n",
        "  if num < n_min:\n",
        "    n_min=num\n",
        "print(n_min,n_max,end='')\n"
      ],
      "execution_count": null,
      "outputs": [
        {
          "output_type": "stream",
          "text": [
            "5\n",
            "20 10 35 30 7\n",
            "7 35"
          ],
          "name": "stdout"
        }
      ]
    },
    {
      "cell_type": "code",
      "metadata": {
        "colab": {
          "base_uri": "https://localhost:8080/"
        },
        "id": "EUyaxo91LnCM",
        "outputId": "5b77c872-29f8-4a64-f215-fd4d24ccea3c"
      },
      "source": [
        "#2 \n",
        "N=int(input())\n",
        "n_list=list(map(int,input().split()))\n",
        "print(min(n_list),max(n_list))\n"
      ],
      "execution_count": null,
      "outputs": [
        {
          "output_type": "stream",
          "text": [
            "5\n",
            "20 10 35 30 7\n",
            "7 35\n"
          ],
          "name": "stdout"
        }
      ]
    },
    {
      "cell_type": "markdown",
      "metadata": {
        "id": "R8Ij-PhWQ9BD"
      },
      "source": [
        "# 2562번 최대"
      ]
    },
    {
      "cell_type": "code",
      "metadata": {
        "colab": {
          "base_uri": "https://localhost:8080/"
        },
        "id": "1-oNcQXHOR07",
        "outputId": "fdf11514-62dd-49ac-8de4-08f184803a67"
      },
      "source": [
        "num_list=[]\n",
        "for num in range(9):\n",
        "  num_list.append(int(input()))\n",
        "print(max(num_list))\n",
        "print(num_list.index(max(num_list))+1)\n",
        "\n"
      ],
      "execution_count": null,
      "outputs": [
        {
          "output_type": "stream",
          "text": [
            "3\n",
            "29\n",
            "38\n",
            "12\n",
            "57\n",
            "74\n",
            "40\n",
            "85\n",
            "61\n",
            "85\n",
            "8\n"
          ],
          "name": "stdout"
        }
      ]
    },
    {
      "cell_type": "markdown",
      "metadata": {
        "id": "zRpzV2p7V_IF"
      },
      "source": [
        "#2577번 숫자의개수"
      ]
    },
    {
      "cell_type": "code",
      "metadata": {
        "colab": {
          "base_uri": "https://localhost:8080/"
        },
        "id": "pY98Yqr-RT9O",
        "outputId": "896a2db4-4911-457f-9677-dc703df3414b"
      },
      "source": [
        "A=int(input())\n",
        "B=int(input())\n",
        "C=int(input())\n",
        "num=A*B*C #A,B,C의 값 구하기\n",
        "num=str(num) #결과값을 배열로 만들기\n",
        "for i in range(0,10):\n",
        "  print(num.count(str(i)))\n",
        "  \n",
        "  \n"
      ],
      "execution_count": null,
      "outputs": [
        {
          "output_type": "stream",
          "text": [
            "150\n",
            "266\n",
            "427\n",
            "3\n",
            "1\n",
            "0\n",
            "2\n",
            "0\n",
            "0\n",
            "0\n",
            "2\n",
            "0\n",
            "0\n"
          ],
          "name": "stdout"
        }
      ]
    },
    {
      "cell_type": "markdown",
      "metadata": {
        "id": "SLTMVu-8Zy-c"
      },
      "source": [
        "#3052번 나머지"
      ]
    },
    {
      "cell_type": "code",
      "metadata": {
        "colab": {
          "base_uri": "https://localhost:8080/"
        },
        "id": "3NuSU7Y3WlNW",
        "outputId": "2bf08791-312a-4a16-fe84-cf5373c0fcd6"
      },
      "source": [
        "num_list=[]\n",
        "for i in range(10):\n",
        "  num=int(input())\n",
        "  num_list.append(num%42)\n",
        "num_list=set(num_list)\n",
        "print(len(num_list))\n",
        "  "
      ],
      "execution_count": null,
      "outputs": [
        {
          "output_type": "stream",
          "text": [
            "1\n",
            "2\n",
            "3\n",
            "4\n",
            "5\n",
            "6\n",
            "7\n",
            "8\n",
            "9\n",
            "10\n",
            "10\n"
          ],
          "name": "stdout"
        }
      ]
    },
    {
      "cell_type": "code",
      "metadata": {
        "id": "kz2WkTAaaeDn"
      },
      "source": [
        "3\n",
        "5"
      ],
      "execution_count": null,
      "outputs": []
    }
  ]
}