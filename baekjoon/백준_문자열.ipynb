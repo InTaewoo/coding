{
  "nbformat": 4,
  "nbformat_minor": 0,
  "metadata": {
    "colab": {
      "name": "백준 문자열.ipynb",
      "provenance": [],
      "authorship_tag": "ABX9TyMtF6LbYZQSQoLE5imCQqDd",
      "include_colab_link": true
    },
    "kernelspec": {
      "name": "python3",
      "display_name": "Python 3"
    },
    "language_info": {
      "name": "python"
    }
  },
  "cells": [
    {
      "cell_type": "markdown",
      "metadata": {
        "id": "view-in-github",
        "colab_type": "text"
      },
      "source": [
        "<a href=\"https://colab.research.google.com/github/InTaewoo/coding/blob/main/baekjoon/%EB%B0%B1%EC%A4%80_%EB%AC%B8%EC%9E%90%EC%97%B4.ipynb\" target=\"_parent\"><img src=\"https://colab.research.google.com/assets/colab-badge.svg\" alt=\"Open In Colab\"/></a>"
      ]
    },
    {
      "cell_type": "code",
      "metadata": {
        "id": "Qi28fW5LeN-q"
      },
      "source": [
        "# 15596번\n",
        "def hab(a):\n",
        "  return sum(a)"
      ],
      "execution_count": 1,
      "outputs": []
    },
    {
      "cell_type": "code",
      "metadata": {
        "colab": {
          "base_uri": "https://localhost:8080/"
        },
        "id": "PNY4oTMyeZDT",
        "outputId": "fd227564-1c6c-4ec5-cd7d-bd261075a229"
      },
      "source": [
        "# 11654번\n",
        "a = input('')\n",
        "print(ord(a))"
      ],
      "execution_count": 4,
      "outputs": [
        {
          "output_type": "stream",
          "name": "stdout",
          "text": [
            "A\n",
            "65\n"
          ]
        }
      ]
    },
    {
      "cell_type": "code",
      "metadata": {
        "colab": {
          "base_uri": "https://localhost:8080/"
        },
        "id": "Mx-1pf5MekJj",
        "outputId": "fdf019a6-b14d-4803-eb66-d18deb72c84f"
      },
      "source": [
        "# 11720번\n",
        "\n",
        "n = input()\n",
        "nums = input()\n",
        "total = 0\n",
        "for i in nums :\n",
        "    total += int(i)  # total= total+int(i)\n",
        "print(total)"
      ],
      "execution_count": 19,
      "outputs": [
        {
          "output_type": "stream",
          "name": "stdout",
          "text": [
            "5\n",
            "54321\n",
            "15\n"
          ]
        }
      ]
    },
    {
      "cell_type": "code",
      "metadata": {
        "colab": {
          "base_uri": "https://localhost:8080/"
        },
        "id": "pRpX4LLWiy0i",
        "outputId": "02cea0d3-21c7-4aeb-bba7-c42f544543b0"
      },
      "source": [
        "# 1110 번 사이클\n",
        "\n",
        "input_num = int(input())\n",
        "\n",
        "num = input_num  # num 변수에 input_num을 지정\n",
        "cnt = 0\n",
        "while True:\n",
        "    sum_num = (num // 10) + (num % 10)  # 각 자릿수를 더한수\n",
        "    new_num = ((num % 10) * 10) + (sum_num % 10)  # 새로 만들어지는 수\n",
        "    cnt += 1  # 사이클 카운트\n",
        "    if new_num == input_num :\n",
        "        break\n",
        "    num = new_num  # num 변수에 last_num을 지정 \n",
        "print(cnt)\n"
      ],
      "execution_count": 29,
      "outputs": [
        {
          "output_type": "stream",
          "name": "stdout",
          "text": [
            "26\n",
            "4\n"
          ]
        }
      ]
    },
    {
      "cell_type": "code",
      "metadata": {
        "id": "GLKGVqtzpxs-"
      },
      "source": [
        ""
      ],
      "execution_count": null,
      "outputs": []
    }
  ]
}