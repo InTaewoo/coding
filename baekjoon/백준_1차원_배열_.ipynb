{
  "nbformat": 4,
  "nbformat_minor": 0,
  "metadata": {
    "colab": {
      "name": "백준-1차원 배열 .ipynb",
      "provenance": [],
      "authorship_tag": "ABX9TyNdam1r7XDYmShz6+6+ClXL",
      "include_colab_link": true
    },
    "kernelspec": {
      "name": "python3",
      "display_name": "Python 3"
    },
    "language_info": {
      "name": "python"
    }
  },
  "cells": [
    {
      "cell_type": "markdown",
      "metadata": {
        "id": "view-in-github",
        "colab_type": "text"
      },
      "source": [
        "<a href=\"https://colab.research.google.com/github/InTaewoo/coding/blob/main/baekjoon/%EB%B0%B1%EC%A4%80_1%EC%B0%A8%EC%9B%90_%EB%B0%B0%EC%97%B4_.ipynb\" target=\"_parent\"><img src=\"https://colab.research.google.com/assets/colab-badge.svg\" alt=\"Open In Colab\"/></a>"
      ]
    },
    {
      "cell_type": "code",
      "metadata": {
        "colab": {
          "base_uri": "https://localhost:8080/"
        },
        "id": "riKu7rKJSjOt",
        "outputId": "f561bf16-1102-4be9-d88c-23e9630d23eb"
      },
      "source": [
        "# 백준 2438\n",
        "a = int(input())\n",
        "for i in range(1,a+1):\n",
        "  print(i*'*')"
      ],
      "execution_count": 1,
      "outputs": [
        {
          "output_type": "stream",
          "name": "stdout",
          "text": [
            "5\n",
            "*\n",
            "**\n",
            "***\n",
            "****\n",
            "*****\n"
          ]
        }
      ]
    },
    {
      "cell_type": "code",
      "metadata": {
        "colab": {
          "base_uri": "https://localhost:8080/"
        },
        "id": "ekjRrKaISk54",
        "outputId": "625672ad-0b4e-4239-f10e-4f171ae79349"
      },
      "source": [
        "a= int(input())\n",
        "for i in range(1,a+1):\n",
        "  print(\" \" *(a-1) + '*'*i )"
      ],
      "execution_count": 2,
      "outputs": [
        {
          "output_type": "stream",
          "name": "stdout",
          "text": [
            "5\n",
            "    *\n",
            "    **\n",
            "    ***\n",
            "    ****\n",
            "    *****\n"
          ]
        }
      ]
    },
    {
      "cell_type": "code",
      "metadata": {
        "colab": {
          "base_uri": "https://localhost:8080/"
        },
        "id": "FDpb8jrmSqJT",
        "outputId": "432e6bc4-3d70-4d4f-998f-b1177c887f64"
      },
      "source": [
        "# 백준 2439\n",
        "a=int(input())\n",
        "for i in range(1,a+1):\n",
        "    print(\" \"*(a-i) + \"*\"*i)"
      ],
      "execution_count": 3,
      "outputs": [
        {
          "output_type": "stream",
          "name": "stdout",
          "text": [
            "5\n",
            "    *\n",
            "   **\n",
            "  ***\n",
            " ****\n",
            "*****\n"
          ]
        }
      ]
    },
    {
      "cell_type": "code",
      "metadata": {
        "colab": {
          "base_uri": "https://localhost:8080/"
        },
        "id": "wKNK4Vc2SroV",
        "outputId": "40c30786-98d7-4110-a1ef-236dd680e5b9"
      },
      "source": [
        "# 백준 10871 번\n",
        "\n",
        "N,X = map(int,input().split())\n",
        "A = list(map(int,input().split()))\n",
        "for i in range(N):\n",
        "  if A[i] < X :\n",
        "    print(A[i],end=' ')"
      ],
      "execution_count": 5,
      "outputs": [
        {
          "output_type": "stream",
          "name": "stdout",
          "text": [
            "10 5\n",
            "1 10 2 4 6 7 9 8 3 5\n",
            "1 2 4 3 "
          ]
        }
      ]
    },
    {
      "cell_type": "code",
      "metadata": {
        "colab": {
          "base_uri": "https://localhost:8080/"
        },
        "id": "T1CrvQl0Suh8",
        "outputId": "7da51709-28bf-407f-f205-7a4c2606736b"
      },
      "source": [
        "# 백준 1546번\n",
        "N = int(input())\n",
        "score = list(map(int,input().split()))\n",
        "M = max(score)\n",
        "\n",
        "new_list = []\n",
        "for i in score:\n",
        "    new_list.append(i/M*100)\n",
        "test_avg = sum(new_list)/N\n",
        "print(test_avg)"
      ],
      "execution_count": 6,
      "outputs": [
        {
          "output_type": "stream",
          "name": "stdout",
          "text": [
            "5\n",
            "10 20 30\n",
            "40.0\n"
          ]
        }
      ]
    },
    {
      "cell_type": "code",
      "metadata": {
        "colab": {
          "base_uri": "https://localhost:8080/"
        },
        "id": "Vamwf7W-S4w7",
        "outputId": "3527d7c9-e224-4c3f-a386-09a006d36722"
      },
      "source": [
        "n = int(input())  # 과목 수\n",
        "test_list = list(map(int, input().split()))\n",
        "max_score = max(test_list)\n",
        "\n",
        "new_list = []\n",
        "for score in test_list :\n",
        "    new_list.append(score/max_score *100)  # 새로운 점수 생성\n",
        "test_avg = sum(new_list)/n\n",
        "print(test_avg)"
      ],
      "execution_count": 7,
      "outputs": [
        {
          "output_type": "stream",
          "name": "stdout",
          "text": [
            "3\n",
            "10 20 30\n",
            "66.66666666666667\n"
          ]
        }
      ]
    },
    {
      "cell_type": "code",
      "metadata": {
        "colab": {
          "base_uri": "https://localhost:8080/"
        },
        "id": "CJuemjvcTAtn",
        "outputId": "d73976e1-edef-418a-ec69-d179474171fd"
      },
      "source": [
        "# 백준 8958번\n",
        "count = int(input())\n",
        "for i in range(count):\n",
        "  score = 0\n",
        "  c = 1\n",
        "  ox = list(input(''))\n",
        "  for i in ox:\n",
        "    if i == 'O':\n",
        "      score += c\n",
        "    else :\n",
        "      c = 1\n",
        "  print(score)"
      ],
      "execution_count": 8,
      "outputs": [
        {
          "output_type": "stream",
          "name": "stdout",
          "text": [
            "5\n",
            "OOOXOO\n",
            "5\n",
            "OOOOOO\n",
            "6\n",
            "XXXOXO\n",
            "2\n",
            "XXX\n",
            "0\n",
            "OXOXOXO\n",
            "4\n"
          ]
        }
      ]
    },
    {
      "cell_type": "code",
      "metadata": {
        "colab": {
          "base_uri": "https://localhost:8080/"
        },
        "id": "JFjqeu9tTEjG",
        "outputId": "17f788bb-fc44-4acc-b6b2-68757238a70b"
      },
      "source": [
        "# 백준 4344번\n",
        "n = int(input())\n",
        "\n",
        "for _ in range(n):\n",
        "    nums = list(map(int, input().split()))\n",
        "    avg = sum(nums[1:])/nums[0]  # 평균을 구함 (nums[0]: 학생수, nums[1:] 점수)\n",
        "    cnt = 0\n",
        "    for score in nums[1:]:\n",
        "        if score > avg:\n",
        "            cnt += 1  # 평균 이상인 학생 수\n",
        "    rate = cnt/nums[0] *100\n",
        "    print(f'{rate:.3f}%')\n",
        "\n",
        "  \n",
        "\n"
      ],
      "execution_count": 26,
      "outputs": [
        {
          "output_type": "stream",
          "name": "stdout",
          "text": [
            "3\n",
            "10 20 30\n",
            "20.000%\n",
            "50 40 20\n",
            "4.000%\n",
            "30 20 50 100 \n",
            "10.000%\n"
          ]
        }
      ]
    },
    {
      "cell_type": "code",
      "metadata": {
        "colab": {
          "base_uri": "https://localhost:8080/"
        },
        "id": "or83fy_NWjge",
        "outputId": "2c47f9ea-387f-433d-b010-d16029fd925b"
      },
      "source": [
        "1"
      ],
      "execution_count": 13,
      "outputs": [
        {
          "output_type": "execute_result",
          "data": {
            "text/plain": [
              "1"
            ]
          },
          "metadata": {},
          "execution_count": 13
        }
      ]
    },
    {
      "cell_type": "code",
      "metadata": {
        "id": "92quCumQXIOe"
      },
      "source": [
        ""
      ],
      "execution_count": null,
      "outputs": []
    }
  ]
}