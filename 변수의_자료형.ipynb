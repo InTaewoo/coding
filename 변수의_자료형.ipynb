{
  "nbformat": 4,
  "nbformat_minor": 0,
  "metadata": {
    "colab": {
      "name": "변수의 자료형.ipynb",
      "provenance": [],
      "authorship_tag": "ABX9TyMFUfAaUubVi1uZA0pXuq3c",
      "include_colab_link": true
    },
    "kernelspec": {
      "name": "python3",
      "display_name": "Python 3"
    },
    "language_info": {
      "name": "python"
    }
  },
  "cells": [
    {
      "cell_type": "markdown",
      "metadata": {
        "id": "view-in-github",
        "colab_type": "text"
      },
      "source": [
        "<a href=\"https://colab.research.google.com/github/InTaewoo/coding/blob/main/%EB%B3%80%EC%88%98%EC%9D%98_%EC%9E%90%EB%A3%8C%ED%98%95.ipynb\" target=\"_parent\"><img src=\"https://colab.research.google.com/assets/colab-badge.svg\" alt=\"Open In Colab\"/></a>"
      ]
    },
    {
      "cell_type": "markdown",
      "metadata": {
        "id": "VFgGqk3iAehB"
      },
      "source": [
        "# 1번 : 변수의 자료형"
      ]
    },
    {
      "cell_type": "code",
      "metadata": {
        "colab": {
          "base_uri": "https://localhost:8080/"
        },
        "id": "mMmvZZ4WAh3J",
        "outputId": "13c74edd-77f8-461e-ed2e-c54a208ac147"
      },
      "source": [
        "I = [100,200,300]\n",
        "print(type(I))"
      ],
      "execution_count": 1,
      "outputs": [
        {
          "output_type": "stream",
          "text": [
            "<class 'list'>\n"
          ],
          "name": "stdout"
        }
      ]
    },
    {
      "cell_type": "markdown",
      "metadata": {
        "id": "D_3bgfuCAtid"
      },
      "source": [
        "# 2번 : 변수의 자료형 2"
      ]
    },
    {
      "cell_type": "code",
      "metadata": {
        "colab": {
          "base_uri": "https://localhost:8080/"
        },
        "id": "uz4h-MSxAlOf",
        "outputId": "14833430-607c-4849-ab35-f2e591677cad"
      },
      "source": [
        "a = 1\n",
        "b = 2.22\n",
        "c = 'p'\n",
        "d = [1, 2, 3]\n",
        "\n",
        "print(type(a))\n",
        "print(type(b))\n",
        "print(type(c))\n",
        "print(type(d))"
      ],
      "execution_count": 2,
      "outputs": [
        {
          "output_type": "stream",
          "text": [
            "<class 'int'>\n",
            "<class 'float'>\n",
            "<class 'str'>\n",
            "<class 'list'>\n"
          ],
          "name": "stdout"
        }
      ]
    },
    {
      "cell_type": "markdown",
      "metadata": {
        "id": "lt3q6ZznA9pU"
      },
      "source": [
        "# 3번 : false"
      ]
    },
    {
      "cell_type": "code",
      "metadata": {
        "id": "Jjt_Q0IhAx8R"
      },
      "source": [
        "a = None\n",
        "b = 1\n",
        "c = \"\"\n",
        "d = 0\n",
        "e = bool(0)"
      ],
      "execution_count": 4,
      "outputs": []
    },
    {
      "cell_type": "code",
      "metadata": {
        "colab": {
          "base_uri": "https://localhost:8080/"
        },
        "id": "GvcIV4DgBDHT",
        "outputId": "43179c30-31c3-405a-a660-0d273433c276"
      },
      "source": [
        "print(a)"
      ],
      "execution_count": 5,
      "outputs": [
        {
          "output_type": "stream",
          "text": [
            "None\n"
          ],
          "name": "stdout"
        }
      ]
    },
    {
      "cell_type": "markdown",
      "metadata": {
        "id": "G9hN1PJmBvI7"
      },
      "source": [
        "#4번 : 변수명"
      ]
    },
    {
      "cell_type": "code",
      "metadata": {
        "colab": {
          "base_uri": "https://localhost:8080/",
          "height": 134
        },
        "id": "0xPp51RKByth",
        "outputId": "bd253940-2715-43d4-dfb9-3b5f60988d86"
      },
      "source": [
        "age = 0\n",
        "a = 1\n",
        "as = 'hello'\n",
        "_age = 'world'\n",
        "1age = 3.14\n",
        "#에러 코드= as='hello', 1age=3.14 변수 앞에 숫자x, 파이썬키워드(true,false,and,as)은변수명으로 사용X"
      ],
      "execution_count": 11,
      "outputs": [
        {
          "output_type": "error",
          "ename": "SyntaxError",
          "evalue": "ignored",
          "traceback": [
            "\u001b[0;36m  File \u001b[0;32m\"<ipython-input-11-f31ea4e2abe8>\"\u001b[0;36m, line \u001b[0;32m3\u001b[0m\n\u001b[0;31m    as = 'hello'\u001b[0m\n\u001b[0m     ^\u001b[0m\n\u001b[0;31mSyntaxError\u001b[0m\u001b[0;31m:\u001b[0m invalid syntax\n"
          ]
        }
      ]
    },
    {
      "cell_type": "code",
      "metadata": {
        "id": "K0lF1dZkC-oi"
      },
      "source": [
        ""
      ],
      "execution_count": null,
      "outputs": []
    },
    {
      "cell_type": "code",
      "metadata": {
        "id": "CnZQwezpB5iL"
      },
      "source": [
        ""
      ],
      "execution_count": null,
      "outputs": []
    }
  ]
}