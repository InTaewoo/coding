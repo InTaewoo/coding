{
  "nbformat": 4,
  "nbformat_minor": 0,
  "metadata": {
    "colab": {
      "name": "입출력.ipynb",
      "provenance": [],
      "authorship_tag": "ABX9TyOrkbMjvAgq6pzalcztUZfK",
      "include_colab_link": true
    },
    "kernelspec": {
      "name": "python3",
      "display_name": "Python 3"
    },
    "language_info": {
      "name": "python"
    }
  },
  "cells": [
    {
      "cell_type": "markdown",
      "metadata": {
        "id": "view-in-github",
        "colab_type": "text"
      },
      "source": [
        "<a href=\"https://colab.research.google.com/github/InTaewoo/coding/blob/main/%EC%9E%85%EC%B6%9C%EB%A0%A5.ipynb\" target=\"_parent\"><img src=\"https://colab.research.google.com/assets/colab-badge.svg\" alt=\"Open In Colab\"/></a>"
      ]
    },
    {
      "cell_type": "markdown",
      "metadata": {
        "id": "zCAqekhkDM9N"
      },
      "source": [
        "#1번 : 자기소개"
      ]
    },
    {
      "cell_type": "code",
      "metadata": {
        "colab": {
          "base_uri": "https://localhost:8080/"
        },
        "id": "BengKDTIDHJb",
        "outputId": "cf38fb86-2240-47d9-d658-8e421e21298e"
      },
      "source": [
        "print('안녕하세요. 저는',input()+'입니다.')"
      ],
      "execution_count": 5,
      "outputs": [
        {
          "output_type": "stream",
          "text": [
            "인태우\n",
            "안녕하세요. 저는 인태우입니다.\n"
          ],
          "name": "stdout"
        }
      ]
    },
    {
      "cell_type": "markdown",
      "metadata": {
        "id": "rLr8GfFrDwQT"
      },
      "source": [
        "#2번 : OX문제"
      ]
    },
    {
      "cell_type": "code",
      "metadata": {
        "colab": {
          "base_uri": "https://localhost:8080/"
        },
        "id": "KfhQeuIwDTon",
        "outputId": "67b69f02-ba3f-40f5-b812-d62e3ce4443e"
      },
      "source": [
        "#print(10/2)의 출력 결과는 5인가요? 맞다면 O, 틀리다면 X 를 제출하세요.\n",
        "if 10/2==5:\n",
        "  print('O')\n",
        "else:\n",
        "  print('X')"
      ],
      "execution_count": 8,
      "outputs": [
        {
          "output_type": "stream",
          "text": [
            "O\n"
          ],
          "name": "stdout"
        }
      ]
    },
    {
      "cell_type": "markdown",
      "metadata": {
        "id": "UOcpsNvWFTOl"
      },
      "source": [
        "#3번 : sep과 end를 활용한 출력방법"
      ]
    },
    {
      "cell_type": "code",
      "metadata": {
        "colab": {
          "base_uri": "https://localhost:8080/"
        },
        "id": "Hadz4Lp8EtCZ",
        "outputId": "1d0514be-e431-4a65-a4e0-22d085f884f5"
      },
      "source": [
        "year = '2020'\n",
        "month = '09'\n",
        "day = '01'\n",
        "hour = '11'\n",
        "minute = '34'\n",
        "second = '27'\n",
        " \n",
        "# print 함수 내부를 수정하세요\n",
        "print(year,month,day,sep='/',end=' ')\n",
        "print(hour,minute,second,sep=':')"
      ],
      "execution_count": 24,
      "outputs": [
        {
          "output_type": "stream",
          "text": [
            "2020/09/01 11:34:27\n"
          ],
          "name": "stdout"
        }
      ]
    },
    {
      "cell_type": "code",
      "metadata": {
        "id": "yKyf_2e1FZMg"
      },
      "source": [
        ""
      ],
      "execution_count": null,
      "outputs": []
    }
  ]
}